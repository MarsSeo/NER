{
 "cells": [
  {
   "cell_type": "code",
   "execution_count": 1,
   "metadata": {},
   "outputs": [
    {
     "name": "stderr",
     "output_type": "stream",
     "text": [
      "C:\\Users\\Severus\\AppData\\Roaming\\Python\\Python39\\site-packages\\tensorflow_addons\\utils\\tfa_eol_msg.py:23: UserWarning: \n",
      "\n",
      "TensorFlow Addons (TFA) has ended development and introduction of new features.\n",
      "TFA has entered a minimal maintenance and release mode until a planned end of life in May 2024.\n",
      "Please modify downstream libraries to take dependencies from other repositories in our TensorFlow community (e.g. Keras, Keras-CV, and Keras-NLP). \n",
      "\n",
      "For more information see: https://github.com/tensorflow/addons/issues/2807 \n",
      "\n",
      "  warnings.warn(\n",
      "C:\\Users\\Severus\\AppData\\Roaming\\Python\\Python39\\site-packages\\tensorflow_addons\\utils\\ensure_tf_install.py:53: UserWarning: Tensorflow Addons supports using Python ops for all Tensorflow versions above or equal to 2.12.0 and strictly below 2.15.0 (nightly versions are not supported). \n",
      " The versions of TensorFlow you are currently using is 2.10.0 and is not supported. \n",
      "Some things might work, some things might not.\n",
      "If you were to encounter a bug, do not file an issue.\n",
      "If you want to make sure you're using a tested and supported configuration, either change the TensorFlow version or the TensorFlow Addons's version. \n",
      "You can find the compatibility matrix in TensorFlow Addon's readme:\n",
      "https://github.com/tensorflow/addons\n",
      "  warnings.warn(\n"
     ]
    }
   ],
   "source": [
    "import tensorflow as tf\n",
    "import tensorflow_text as text\n",
    "import tensorflow_models as tfm\n",
    "import tensorflow_hub as hub\n",
    "import numpy as np\n",
    "import pandas as pd\n",
    "import matplotlib.pyplot as plt\n",
    "from official.nlp import optimization  # to create AdamW optimizer\n",
    "import shutil\n",
    "import os\n",
    "import json"
   ]
  },
  {
   "cell_type": "code",
   "execution_count": 2,
   "metadata": {},
   "outputs": [],
   "source": [
    "class CONFIG: \n",
    "    EPS = 1e-8 \n",
    "    EPOCHS = 3 # 3~5\n",
    "    BATCH_SIZE = 16 # 8, 32\n",
    "    LEARNING_RATE = 2e-5 # 1e-5\n",
    "    MAX_LENGTH = 128 # 256\n",
    "    BERT_MODEL_NAME = 'bert-base-uncased' # large, RoBERTa, DeBERTa\n",
    "    DEVICE_NAME = \"mps\" # Cuda or alternative"
   ]
  },
  {
   "cell_type": "code",
   "execution_count": 69,
   "metadata": {},
   "outputs": [
    {
     "name": "stdout",
     "output_type": "stream",
     "text": [
      "(2717, 19)\n",
      "{'Message-Topic(e1,e2)': 0, 'Product-Producer(e2,e1)': 1, 'Instrument-Agency(e2,e1)': 2, 'Entity-Destination(e1,e2)': 3, 'Cause-Effect(e2,e1)': 4, 'Component-Whole(e1,e2)': 5, 'Product-Producer(e1,e2)': 6, 'Member-Collection(e2,e1)': 7, 'Other': 8, 'Entity-Origin(e1,e2)': 9, 'Content-Container(e1,e2)': 10, 'Entity-Origin(e2,e1)': 11, 'Cause-Effect(e1,e2)': 12, 'Component-Whole(e2,e1)': 13, 'Content-Container(e2,e1)': 14, 'Instrument-Agency(e1,e2)': 15, 'Message-Topic(e2,e1)': 16, 'Member-Collection(e1,e2)': 17, 'Entity-Destination(e2,e1)': 18}\n",
      "(1493, 19)\n",
      "{'Message-Topic(e1,e2)': 0, 'Product-Producer(e2,e1)': 1, 'Instrument-Agency(e2,e1)': 2, 'Entity-Destination(e1,e2)': 3, 'Cause-Effect(e2,e1)': 4, 'Component-Whole(e1,e2)': 5, 'Product-Producer(e1,e2)': 6, 'Member-Collection(e2,e1)': 7, 'Other': 8, 'Entity-Origin(e1,e2)': 9, 'Content-Container(e1,e2)': 10, 'Entity-Origin(e2,e1)': 11, 'Cause-Effect(e1,e2)': 12, 'Component-Whole(e2,e1)': 13, 'Content-Container(e2,e1)': 14, 'Instrument-Agency(e1,e2)': 15, 'Message-Topic(e2,e1)': 16, 'Member-Collection(e1,e2)': 17, 'Entity-Destination(e2,e1)': 18}\n",
      "(6507, 19)\n",
      "{'Message-Topic(e1,e2)': 0, 'Product-Producer(e2,e1)': 1, 'Instrument-Agency(e2,e1)': 2, 'Entity-Destination(e1,e2)': 3, 'Cause-Effect(e2,e1)': 4, 'Component-Whole(e1,e2)': 5, 'Product-Producer(e1,e2)': 6, 'Member-Collection(e2,e1)': 7, 'Other': 8, 'Entity-Origin(e1,e2)': 9, 'Content-Container(e1,e2)': 10, 'Entity-Origin(e2,e1)': 11, 'Cause-Effect(e1,e2)': 12, 'Component-Whole(e2,e1)': 13, 'Content-Container(e2,e1)': 14, 'Instrument-Agency(e1,e2)': 15, 'Message-Topic(e2,e1)': 16, 'Member-Collection(e1,e2)': 17, 'Entity-Destination(e2,e1)': 18}\n"
     ]
    }
   ],
   "source": [
    "def load_dataset(path,reladict={}):\n",
    "    with open(path,'r',encoding='UTF-8') as f:\n",
    "        data=[json.loads(line) for line in f]\n",
    "    sent=[]\n",
    "    relation=[]\n",
    "    for d in data:\n",
    "        token=d['token']\n",
    "        for i in range(d['h']['pos'][0],d['h']['pos'][1]):\n",
    "            token[i]='[MASK]'\n",
    "        for i in range(d['t']['pos'][0],d['t']['pos'][1]):\n",
    "            token[i]='[MASK]'\n",
    "        sent.append([' '.join(token)])\n",
    "        if reladict.get(d['relation'],False)==False:\n",
    "            reladict.setdefault(d['relation'],len(reladict))\n",
    "        relation.append(reladict[d['relation']])\n",
    "    temp=np.zeros(shape=(len(relation),len(reladict)))\n",
    "    print(temp.shape)\n",
    "    print(reladict)\n",
    "    for i in range(len(relation)):\n",
    "        temp[i][relation[i]]=1\n",
    "    data=tf.data.Dataset.from_tensor_slices((sent,temp)).shuffle(1000).batch(CONFIG.BATCH_SIZE).prefetch(tf.data.AUTOTUNE)\n",
    "    return data,reladict\n",
    "    \n",
    "test_ds,reladict=load_dataset('semeval_test.txt')\n",
    "valid_ds=load_dataset('semeval_val.txt',reladict)[0]\n",
    "train_ds=load_dataset('semeval_train.txt',reladict)[0]"
   ]
  },
  {
   "cell_type": "code",
   "execution_count": 47,
   "metadata": {},
   "outputs": [
    {
     "name": "stdout",
     "output_type": "stream",
     "text": [
      "{'Message-Topic(e1,e2)': 0, 'Product-Producer(e2,e1)': 1, 'Instrument-Agency(e2,e1)': 2, 'Entity-Destination(e1,e2)': 3, 'Cause-Effect(e2,e1)': 4, 'Component-Whole(e1,e2)': 5, 'Product-Producer(e1,e2)': 6, 'Member-Collection(e2,e1)': 7, 'Other': 8, 'Entity-Origin(e1,e2)': 9, 'Content-Container(e1,e2)': 10, 'Entity-Origin(e2,e1)': 11, 'Cause-Effect(e1,e2)': 12, 'Component-Whole(e2,e1)': 13, 'Content-Container(e2,e1)': 14, 'Instrument-Agency(e1,e2)': 15, 'Message-Topic(e2,e1)': 16, 'Member-Collection(e1,e2)': 17, 'Entity-Destination(e2,e1)': 18}\n",
      "19\n",
      "Review: [b'the [MASK] [MASK] was derived from a macrophage-enriched [MASK] [MASK] .']\n",
      "Label : [0. 0. 0. 0. 0. 0. 0. 0. 1. 0. 0. 0. 0. 0. 0. 0. 0. 0. 0.]\n",
      "19\n",
      "Review: [b'a [MASK] takes you forward by a more or less fixed number of pages at any given position in the [MASK] .']\n",
      "Label : [0. 0. 0. 0. 0. 0. 0. 0. 1. 0. 0. 0. 0. 0. 0. 0. 0. 0. 0.]\n",
      "19\n",
      "Review: [b'the [MASK] of the issue was increased from its initial [MASK] of us $ 750 million following strong market interest .']\n",
      "Label : [0. 0. 0. 0. 0. 0. 0. 0. 1. 0. 0. 0. 0. 0. 0. 0. 0. 0. 0.]\n",
      "19\n"
     ]
    }
   ],
   "source": [
    "print(reladict)\n",
    "print(len(reladict))\n",
    "invdict={}\n",
    "for k,v in reladict.items():\n",
    "    invdict.setdefault(v,k)\n",
    "for text_batch, label_batch in train_ds.take(1):\n",
    "  for i in range(3):\n",
    "    print(f'Review: {text_batch.numpy()[i]}')\n",
    "    label = label_batch.numpy()[i]\n",
    "    print(f'Label : {label}')\n",
    "    print(len(label))"
   ]
  },
  {
   "cell_type": "code",
   "execution_count": 4,
   "metadata": {},
   "outputs": [],
   "source": [
    "loss = tf.keras.losses.CategoricalCrossentropy(from_logits=True)\n",
    "metrics = tf.metrics.CategoricalAccuracy()"
   ]
  },
  {
   "cell_type": "code",
   "execution_count": 5,
   "metadata": {},
   "outputs": [],
   "source": [
    "steps_per_epoch = tf.data.experimental.cardinality(train_ds).numpy()\n",
    "num_train_steps = steps_per_epoch * CONFIG.EPOCHS\n",
    "num_warmup_steps = int(0.1*num_train_steps)\n",
    "\n",
    "#optimizer=tf.keras.optimizers.Adam(learning_rate=1e4)\n",
    "optimizer = optimization.create_optimizer(init_lr=CONFIG.LEARNING_RATE,\n",
    "                                          num_train_steps=num_train_steps,\n",
    "                                          num_warmup_steps=num_warmup_steps,\n",
    "                                          optimizer_type='adamw')"
   ]
  },
  {
   "cell_type": "code",
   "execution_count": 6,
   "metadata": {},
   "outputs": [],
   "source": [
    "preprocessor = hub.KerasLayer('https://tfhub.dev/tensorflow/bert_en_uncased_preprocess/3')\n",
    "bert_layer=hub.KerasLayer('https://tfhub.dev/tensorflow/bert_en_uncased_L-12_H-768_A-12/3', name='BERT_encoder',trainable=True)"
   ]
  },
  {
   "cell_type": "code",
   "execution_count": 7,
   "metadata": {},
   "outputs": [],
   "source": [
    "class MaskingLayer(tf.keras.layers.Layer):\n",
    "    def __init__(self, **kwargs):\n",
    "        super(MaskingLayer, self).__init__(**kwargs)\n",
    "    def call(self, inputs):\n",
    "        #return inputs[0]\n",
    "        return {'input_word_ids':inputs[0]['input_word_ids'],'input_type_ids':tf.math.add(inputs[0]['input_type_ids'],inputs[1]),'input_mask':tf.math.add(inputs[0]['input_mask'],tf.math.multiply(inputs[1],-1))}\n",
    "\n",
    "def build_classifier_model(output_shape):\n",
    "    #position_input = tf.keras.layers.Input(shape=(), dtype=tf.int32, name='mask')\n",
    "    text_input = tf.keras.layers.Input(shape=(), dtype=tf.string, name='text')\n",
    "    preprocessing_layer = preprocessor\n",
    "    #masklayer = MaskingLayer()\n",
    "    encoder_inputs = preprocessing_layer(text_input)\n",
    "    #encoder_inputs = masklayer([encoder_inputs,position_input])\n",
    "    encoder = bert_layer\n",
    "    outputs = encoder(encoder_inputs)\n",
    "    net = outputs['pooled_output']\n",
    "    net = tf.keras.layers.Dropout(0.1)(net)\n",
    "    net = tf.keras.layers.Dense(output_shape, activation=None, name='classifier')(net)\n",
    "    return tf.keras.Model(text_input, net)"
   ]
  },
  {
   "cell_type": "code",
   "execution_count": 48,
   "metadata": {},
   "outputs": [
    {
     "name": "stdout",
     "output_type": "stream",
     "text": [
      "You must install pydot (`pip install pydot`) and install graphviz (see instructions at https://graphviz.gitlab.io/download/) for plot_model to work.\n",
      "Model: \"model_2\"\n",
      "__________________________________________________________________________________________________\n",
      " Layer (type)                   Output Shape         Param #     Connected to                     \n",
      "==================================================================================================\n",
      " text (InputLayer)              [(None,)]            0           []                               \n",
      "                                                                                                  \n",
      " keras_layer (KerasLayer)       {'input_word_ids':   0           ['text[0][0]']                   \n",
      "                                (None, 128),                                                      \n",
      "                                 'input_type_ids':                                                \n",
      "                                (None, 128),                                                      \n",
      "                                 'input_mask': (Non                                               \n",
      "                                e, 128)}                                                          \n",
      "                                                                                                  \n",
      " BERT_encoder (KerasLayer)      {'pooled_output': (  109482241   ['keras_layer[2][0]',            \n",
      "                                None, 768),                       'keras_layer[2][1]',            \n",
      "                                 'default': (None,                'keras_layer[2][2]']            \n",
      "                                768),                                                             \n",
      "                                 'sequence_output':                                               \n",
      "                                 (None, 128, 768),                                                \n",
      "                                 'encoder_outputs':                                               \n",
      "                                 [(None, 128, 768),                                               \n",
      "                                 (None, 128, 768),                                                \n",
      "                                 (None, 128, 768),                                                \n",
      "                                 (None, 128, 768),                                                \n",
      "                                 (None, 128, 768),                                                \n",
      "                                 (None, 128, 768),                                                \n",
      "                                 (None, 128, 768),                                                \n",
      "                                 (None, 128, 768),                                                \n",
      "                                 (None, 128, 768),                                                \n",
      "                                 (None, 128, 768),                                                \n",
      "                                 (None, 128, 768),                                                \n",
      "                                 (None, 128, 768)]}                                               \n",
      "                                                                                                  \n",
      " dropout_2 (Dropout)            (None, 768)          0           ['BERT_encoder[2][13]']          \n",
      "                                                                                                  \n",
      " classifier (Dense)             (None, 19)           14611       ['dropout_2[0][0]']              \n",
      "                                                                                                  \n",
      "==================================================================================================\n",
      "Total params: 109,496,852\n",
      "Trainable params: 109,496,851\n",
      "Non-trainable params: 1\n",
      "__________________________________________________________________________________________________\n",
      "None\n",
      "tf.Tensor(\n",
      "[[0.52052534 0.6656557  0.62237936 0.5487071  0.3570157  0.5393086\n",
      "  0.6705323  0.32686976 0.66007555 0.46194312 0.06422493 0.50262046\n",
      "  0.48137188 0.5376462  0.35745835 0.46973404 0.5055269  0.6766645\n",
      "  0.20744988]], shape=(1, 19), dtype=float32)\n"
     ]
    }
   ],
   "source": [
    "text_test=['this is such an amazing movie!']\n",
    "model = build_classifier_model(len(reladict))\n",
    "tf.keras.utils.plot_model(model)\n",
    "print(model.summary())\n",
    "bert_raw_result = model([tf.constant(text_test)])\n",
    "print(tf.sigmoid(bert_raw_result))"
   ]
  },
  {
   "cell_type": "code",
   "execution_count": 49,
   "metadata": {},
   "outputs": [
    {
     "name": "stdout",
     "output_type": "stream",
     "text": [
      "Epoch 1/3\n"
     ]
    },
    {
     "name": "stdout",
     "output_type": "stream",
     "text": [
      "407/407 [==============================] - 113s 263ms/step - loss: 1.1793 - categorical_accuracy: 0.6902 - val_loss: 1.8837 - val_categorical_accuracy: 0.5713\n",
      "Epoch 2/3\n",
      "407/407 [==============================] - 106s 261ms/step - loss: 0.9707 - categorical_accuracy: 0.7221 - val_loss: 1.4226 - val_categorical_accuracy: 0.6343\n",
      "Epoch 3/3\n",
      "407/407 [==============================] - 107s 263ms/step - loss: 1.3779 - categorical_accuracy: 0.6199 - val_loss: 1.4226 - val_categorical_accuracy: 0.6343\n"
     ]
    }
   ],
   "source": [
    "model.compile(optimizer=optimizer,\n",
    "              loss=loss,\n",
    "              metrics=metrics)\n",
    "history=model.fit(train_ds,validation_data=valid_ds,verbose=1,epochs=CONFIG.EPOCHS)"
   ]
  },
  {
   "cell_type": "code",
   "execution_count": 51,
   "metadata": {},
   "outputs": [
    {
     "name": "stdout",
     "output_type": "stream",
     "text": [
      "{'loss': [1.1793009042739868, 0.9707120656967163, 1.3778924942016602], 'categorical_accuracy': [0.6901798248291016, 0.7221453785896301, 0.6199477314949036], 'val_loss': [1.883694052696228, 1.422611951828003, 1.422612190246582], 'val_categorical_accuracy': [0.5713328719139099, 0.6342933773994446, 0.6342933773994446]}\n"
     ]
    }
   ],
   "source": [
    "print(history.history)"
   ]
  },
  {
   "cell_type": "code",
   "execution_count": 53,
   "metadata": {},
   "outputs": [
    {
     "name": "stdout",
     "output_type": "stream",
     "text": [
      "dict_keys(['loss', 'categorical_accuracy', 'val_loss', 'val_categorical_accuracy'])\n"
     ]
    },
    {
     "data": {
      "text/plain": [
       "<matplotlib.legend.Legend at 0x20ad824ff40>"
      ]
     },
     "execution_count": 53,
     "metadata": {},
     "output_type": "execute_result"
    },
    {
     "data": {
      "image/png": "[encoded data removed]",
      "text/plain": [
       "<Figure size 1000x600 with 2 Axes>"
      ]
     },
     "metadata": {},
     "output_type": "display_data"
    }
   ],
   "source": [
    "history_dict = history.history\n",
    "print(history_dict.keys())\n",
    "\n",
    "loss = history_dict['loss']\n",
    "val_loss = history_dict['val_loss']\n",
    "acc = history_dict['categorical_accuracy']\n",
    "val_acc = history_dict['val_categorical_accuracy']\n",
    "\n",
    "fig = plt.figure(figsize=(10, 6))\n",
    "fig.tight_layout()\n",
    "epochs = range(1, len(acc) + 1)\n",
    "plt.subplot(2, 1, 1)\n",
    "# r is for \"solid red line\"\n",
    "plt.plot(epochs, loss, 'r', label='Training loss')\n",
    "plt.plot(epochs, val_loss, 'b', label='Validation loss')\n",
    "# b is for \"solid blue line\"\n",
    "plt.title('Training and validation loss')\n",
    "# plt.xlabel('Epochs')\n",
    "plt.ylabel('Loss')\n",
    "plt.legend()\n",
    "\n",
    "plt.subplot(2, 1, 2)\n",
    "plt.plot(epochs, acc, 'r', label='Training acc')\n",
    "plt.plot(epochs, val_acc, 'b', label='Validation acc')\n",
    "plt.title('Training and validation accuracy')\n",
    "plt.xlabel('Epochs')\n",
    "plt.ylabel('Accuracy')\n",
    "plt.legend(loc='lower right')"
   ]
  },
  {
   "cell_type": "code",
   "execution_count": 54,
   "metadata": {},
   "outputs": [
    {
     "name": "stdout",
     "output_type": "stream",
     "text": [
      "170/170 [==============================] - 11s 66ms/step - loss: 1.3822 - categorical_accuracy: 0.6408\n"
     ]
    },
    {
     "data": {
      "text/plain": [
       "[1.382184386253357, 0.6407802700996399]"
      ]
     },
     "execution_count": 54,
     "metadata": {},
     "output_type": "execute_result"
    }
   ],
   "source": [
    "model.evaluate(test_ds)"
   ]
  },
  {
   "cell_type": "code",
   "execution_count": 67,
   "metadata": {},
   "outputs": [
    {
     "name": "stdout",
     "output_type": "stream",
     "text": [
      "1/1 [==============================] - 0s 97ms/step\n",
      "Entity-Destination(e1,e2) Entity-Destination(e1,e2)\n",
      "Message-Topic(e1,e2) Message-Topic(e1,e2)\n",
      "Entity-Destination(e1,e2) Entity-Destination(e1,e2)\n",
      "Product-Producer(e2,e1) Product-Producer(e2,e1)\n",
      "Message-Topic(e1,e2) Message-Topic(e1,e2)\n",
      "Product-Producer(e2,e1) Product-Producer(e2,e1)\n",
      "Entity-Destination(e1,e2) Entity-Destination(e1,e2)\n",
      "Cause-Effect(e2,e1) Cause-Effect(e2,e1)\n",
      "Entity-Origin(e1,e2) Cause-Effect(e2,e1)\n",
      "Product-Producer(e2,e1) Instrument-Agency(e2,e1)\n",
      "Cause-Effect(e2,e1) Cause-Effect(e2,e1)\n",
      "Entity-Destination(e1,e2) Entity-Destination(e1,e2)\n",
      "Instrument-Agency(e2,e1) Instrument-Agency(e2,e1)\n",
      "Instrument-Agency(e2,e1) Instrument-Agency(e2,e1)\n",
      "Message-Topic(e1,e2) Message-Topic(e1,e2)\n",
      "Entity-Destination(e1,e2) Entity-Destination(e1,e2)\n"
     ]
    }
   ],
   "source": [
    "for tokens,labels in test_ds.take(1):\n",
    "    res=model.predict(tokens)\n",
    "    for i in range(len(res)):\n",
    "        print(invdict[res[i].argmax()],invdict[labels.numpy()[i].tolist().index(1)])\n",
    "    break\n"
   ]
  },
  {
   "cell_type": "code",
   "execution_count": null,
   "metadata": {},
   "outputs": [],
   "source": []
  }
 ],
 "metadata": {
  "kernelspec": {
   "display_name": "Python 3",
   "language": "python",
   "name": "python3"
  },
  "language_info": {
   "codemirror_mode": {
    "name": "ipython",
    "version": 3
   },
   "file_extension": ".py",
   "mimetype": "text/x-python",
   "name": "python",
   "nbconvert_exporter": "python",
   "pygments_lexer": "ipython3",
   "version": "3.9.13"
  }
 },
 "nbformat": 4,
 "nbformat_minor": 2
}
